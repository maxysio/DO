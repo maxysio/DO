{
 "cells": [
  {
   "cell_type": "markdown",
   "source": [
    "# Linear Optimization Sample 1\n",
    "\n",
    "- A store has requested a manufacturer to produce Pants and Sports Jackets \n",
    "\n",
    "- For Materials, the manufacturer has\n",
    "    - Cotton - 750 $m^{2}$\n",
    "    - Polyester - 1000 $m^{2}$\n",
    "\n",
    "- Every pair of Pants needs\n",
    "    - Cotton - 1 $m^{2}$\n",
    "    - Polyster - 2 $m^{2}$\n",
    "\n",
    "- Every pair of Jacket needs\n",
    "    - Cotton - 1.5 $m^{2}$\n",
    "    - Polyster - 1 $m^{2}$\n",
    "\n",
    "- Price of Pant is $50\n",
    "- Price of Jacket is $40\n",
    "\n",
    "What is the number of pants and jackets that the manufacturer must give to the stores so that these obtain a maximum sale?"
   ],
   "metadata": {}
  },
  {
   "cell_type": "markdown",
   "source": [
    "## Objective Function\n",
    "\n",
    "Maximize the Revenue of the Store\n",
    "\n",
    "$J = 50 * n_{p} + 40 * n_{j}$\n",
    "\n",
    "- where J is the revenue of the store\n",
    "- $n_{p}$ is the number of Pants sold\n",
    "- $n_{j}$ is the number of Jackets sold"
   ],
   "metadata": {}
  },
  {
   "cell_type": "markdown",
   "source": [
    "## Decision Variables\n",
    "\n",
    "- Number of Jackets - $n_{j}$\n",
    "- Number of Pants - $n_{p}$"
   ],
   "metadata": {}
  },
  {
   "cell_type": "markdown",
   "source": [
    "## Constraints\n",
    "\n",
    "- Total Amount of Cotton is 750 $m^{2}$\n",
    "\n",
    "    $1 * n_{p} + 1.5 * n_{j} <= 750$\n",
    "    \n",
    "<br>\n",
    "\n",
    "- Total Amount of Polyester is 1000 $m^{2}$\n",
    "\n",
    "    $2 * n_{p} + 1 * n_{j} <= 1000$\n",
    "\n",
    "<br>\n",
    "\n",
    "- Number of Pants and Jackets is greater than equal to 0\n",
    "\n",
    "    $n_{p} >= 0$<br>\n",
    "    $n_{j} >= 0$"
   ],
   "metadata": {}
  },
  {
   "cell_type": "markdown",
   "source": [
    "# Using Google OR Tools"
   ],
   "metadata": {}
  },
  {
   "cell_type": "code",
   "execution_count": 79,
   "source": [
    "from ortools.linear_solver import pywraplp"
   ],
   "outputs": [],
   "metadata": {}
  },
  {
   "cell_type": "code",
   "execution_count": 80,
   "source": [
    "def DisplaySolution():\n",
    "    if status == pywraplp.Solver.OPTIMAL:\n",
    "        print('Objective value =', solver.Objective().Value())\n",
    "        for j in range(data['num_vars']):\n",
    "            print(x[j].name(), ' = ', x[j].solution_value())\n",
    "        print()\n",
    "        print('Problem solved in %f milliseconds' % solver.wall_time())\n",
    "        print('Problem solved in %d iterations' % solver.iterations())\n",
    "        print('Problem solved in %d branch-and-bound nodes' % solver.nodes())\n",
    "    else:\n",
    "        print('The problem does not have an optimal solution.')"
   ],
   "outputs": [],
   "metadata": {}
  },
  {
   "cell_type": "code",
   "execution_count": 81,
   "source": [
    "def create_data_model():\n",
    "    data = {}\n",
    "    data['constraint_coeffs'] = [\n",
    "        [1, 1.5],\n",
    "        [2, 1],\n",
    "        [-1, 0],\n",
    "        [0, -1],\n",
    "    ]\n",
    "\n",
    "    data['bounds'] = [750, 1000, 0, 0]\n",
    "    data['obj_coeffs'] = [50, 40]\n",
    "    data['num_vars'] = 2\n",
    "    data['num_constraints'] = 4\n",
    "\n",
    "    return data"
   ],
   "outputs": [],
   "metadata": {}
  },
  {
   "cell_type": "code",
   "execution_count": 82,
   "source": [
    "# Get the data and Create the Solver\n",
    "data = create_data_model()\n",
    "solver = pywraplp.Solver.CreateSolver('SCIP')"
   ],
   "outputs": [],
   "metadata": {}
  },
  {
   "cell_type": "code",
   "execution_count": 83,
   "source": [
    "# Define the decision variables\n",
    "infinity = solver.infinity()\n",
    "x = {}\n",
    "for j in range(data['num_vars']):\n",
    "    x[j] = solver.IntVar(0, infinity, 'x[%i]' % j)\n",
    "print('Number of Variables = ', solver.NumVariables())"
   ],
   "outputs": [
    {
     "output_type": "stream",
     "name": "stdout",
     "text": [
      "Number of Variables =  2\n"
     ]
    }
   ],
   "metadata": {}
  },
  {
   "cell_type": "code",
   "execution_count": 84,
   "source": [
    "# Define the Constraints\n",
    "for i in range(data['num_constraints']):\n",
    "    constraint_expr = [data['constraint_coeffs'][i][j] * x[j] for j in range(data['num_vars'])]\n",
    "    solver.Add(sum(constraint_expr) <= data['bounds'][i])\n",
    "\n",
    "\n",
    "print('Number of Constraints = ', solver.NumConstraints())"
   ],
   "outputs": [
    {
     "output_type": "stream",
     "name": "stdout",
     "text": [
      "Number of Constraints =  4\n"
     ]
    }
   ],
   "metadata": {}
  },
  {
   "cell_type": "code",
   "execution_count": 85,
   "source": [
    "# Define the Objective\n",
    "objective = solver.Objective()\n",
    "\n",
    "obj_expr = [data['obj_coeffs'][j] * x[j] for j in range(data['num_vars'])]\n",
    "solver.Maximize(solver.Sum(obj_expr))\n"
   ],
   "outputs": [],
   "metadata": {}
  },
  {
   "cell_type": "code",
   "execution_count": 86,
   "source": [
    "status = solver.Solve()"
   ],
   "outputs": [],
   "metadata": {}
  },
  {
   "cell_type": "code",
   "execution_count": 87,
   "source": [
    "DisplaySolution()"
   ],
   "outputs": [
    {
     "output_type": "stream",
     "name": "stdout",
     "text": [
      "Objective value = 28750.000000000004\n",
      "x[0]  =  375.0\n",
      "x[1]  =  250.0\n",
      "\n",
      "Problem solved in 240.000000 milliseconds\n",
      "Problem solved in 2 iterations\n",
      "Problem solved in 1 branch-and-bound nodes\n"
     ]
    }
   ],
   "metadata": {}
  },
  {
   "cell_type": "markdown",
   "source": [
    "# Using CPLEX"
   ],
   "metadata": {}
  },
  {
   "cell_type": "markdown",
   "source": [
    "## The following code is from Nishard and does not execute locally due to missing binaries"
   ],
   "metadata": {}
  },
  {
   "cell_type": "code",
   "execution_count": null,
   "source": [
    "# DO NOT EXECUTE\n",
    "import cplex\n",
    "\n",
    "c = cplex.Cplex()\n",
    "t = c.variables.type\n",
    "c.variables.add(names=['np'], types=t.integer)  # number of pants\n",
    "c.variables.add(names=['nj'], types=t.integer)  # number of pants\n",
    "\n",
    "# defining the constraints\n",
    "c.linear_constraints.add(\n",
    "    lin_expr=[cplex.SparsePair(\n",
    "        ind=['np', 'nj'],\n",
    "        val=[1, 1.5])],\n",
    "    senses=[\"L\"],\n",
    "    rhs=[750],\n",
    "    names=[\"material constraint 1\"])\n",
    "\n",
    "c.linear_constraints.add(\n",
    "    lin_expr=[cplex.SparsePair(\n",
    "        ind=['np', 'nj'],\n",
    "        val=[2, 1])],\n",
    "    senses=[\"L\"],\n",
    "    rhs=[1000],\n",
    "    names=[\"material constraint 2\"])\n",
    "\n",
    "# setting the objective function\n",
    "objective_list = []\n",
    "objective_list.append(('np', 50))\n",
    "objective_list.append(('nj', 40))\n",
    "\n",
    "c.objective.set_linear(objective_list)\n",
    "c.objective.set_sense(c.objective.sense.maximize)\n",
    "\n",
    "c.solve()\n",
    "var_names = c.variables.get_names()\n",
    "var_solutions = c.solution.get_values()\n",
    "print(var_names)\n",
    "print(var_solutions)"
   ],
   "outputs": [],
   "metadata": {}
  },
  {
   "cell_type": "markdown",
   "source": [
    "## The following code was written in IBM Watson. Again, DO NOT EXECUTE do to missing binaries\n",
    "\n",
    "The input files for this are the csv files in this folder. Two scenarios with different material, product combos. This program is written so that the input can be varied."
   ],
   "metadata": {}
  },
  {
   "cell_type": "code",
   "execution_count": null,
   "source": [
    "from docplex.util.environment import get_environment\n",
    "from os.path import splitext\n",
    "import pandas\n",
    "from six import iteritems\n",
    "import cplex\n",
    "import pandas as pd\n",
    "\n",
    "def get_all_inputs():\n",
    "    '''Utility method to read a list of files and return a tuple with all\n",
    "    read data frames.\n",
    "    Returns:\n",
    "        a map { datasetname: data frame }\n",
    "    '''\n",
    "    result = {}\n",
    "    env = get_environment()\n",
    "    for iname in [f for f in os.listdir('.') if splitext(f)[1] == '.csv']:\n",
    "        with env.get_input_stream(iname) as in_stream:\n",
    "            df = pandas.read_csv(in_stream)\n",
    "            datasetname, _ = splitext(iname)\n",
    "            result[datasetname] = df\n",
    "    return result\n",
    "\n",
    "def write_all_outputs(outputs):\n",
    "    '''Write all dataframes in ``outputs`` as .csv.\n",
    "\n",
    "    Args:\n",
    "        outputs: The map of outputs 'outputname' -> 'output df'\n",
    "    '''\n",
    "    for (name, df) in iteritems(outputs):\n",
    "        csv_file = '%s.csv' % name\n",
    "        print(csv_file)\n",
    "        with get_environment().get_output_stream(csv_file) as fp:\n",
    "            if sys.version_info[0] < 3:\n",
    "                fp.write(df.to_csv(index=False, encoding='utf8'))\n",
    "            else:\n",
    "                fp.write(df.to_csv(index=False).encode(encoding='utf8'))\n",
    "    if len(outputs) == 0:\n",
    "        print(\"Warning: no outputs written\")\n",
    "\n",
    "\n",
    "def main_program():\n",
    "    \n",
    "    # Get the Input data\n",
    "    inputs = get_all_inputs()\n",
    "    df_product_price = inputs['product_price']\n",
    "    df_product_composition = inputs['product_composition']\n",
    "    df_material_stock = inputs['material_stock']\n",
    "    \n",
    "    # Get CPLEX\n",
    "    c = cplex.Cplex()\n",
    "    t = c.variables.type\n",
    "    \n",
    "    # Define the Decision Variables. This is defined by the number of items in the product price table\n",
    "    for index, row in df_product_price.iterrows():\n",
    "        c.variables.add(names=[str(row['Product'])], types=t.integer)\n",
    "    \n",
    "    # Define the Constraints\n",
    "    \n",
    "    # Constraint 1 - Max quantity of Components\n",
    "    ind1 = list(df_product_composition['Product'])\n",
    "    for index, row in df_material_stock.iterrows():\n",
    "        mat = str(row['Material'])\n",
    "        val1 = list(df_product_composition[mat])\n",
    "        rhs1 = float(row['Quantity'])\n",
    "        c_name = \"matc\" + mat\n",
    "        \n",
    "        c.linear_constraints.add(lin_expr=[cplex.SparsePair(ind=ind1, val=val1)], senses=[\"L\"], rhs=[rhs1], names=[c_name])\n",
    "        \n",
    "    # Constraint 2 - Decision Variables are greater than or equal to 0\n",
    "    \n",
    "    \n",
    "    # Setting the Objective Function\n",
    "    objective_list = []\n",
    "    for index, row in df_product_price.iterrows():\n",
    "        objective_list.append((row['Product'], float(row['Price'])))\n",
    "    \n",
    "    c.objective.set_linear(objective_list)\n",
    "    c.objective.set_sense(c.objective.sense.maximize)\n",
    "    \n",
    "    # Solve\n",
    "    c.solve()\n",
    "    \n",
    "    # Create the output\n",
    "    list_out = list(zip(c.variables.get_names(), c.solution.get_values()))\n",
    "    df_solution = pd.DataFrame(list_out, columns=['Product', 'Quantity'])\n",
    "    outputs = {}\n",
    "    outputs['solution'] = df_solution\n",
    "    # Generate output files\n",
    "    write_all_outputs(outputs)\n",
    "        \n",
    "    \n",
    "\n",
    "main_program()"
   ],
   "outputs": [],
   "metadata": {}
  }
 ],
 "metadata": {
  "orig_nbformat": 4,
  "language_info": {
   "name": "python",
   "version": "3.9.5",
   "mimetype": "text/x-python",
   "codemirror_mode": {
    "name": "ipython",
    "version": 3
   },
   "pygments_lexer": "ipython3",
   "nbconvert_exporter": "python",
   "file_extension": ".py"
  },
  "kernelspec": {
   "name": "python3",
   "display_name": "Python 3.9.5 64-bit"
  },
  "interpreter": {
   "hash": "aee8b7b246df8f9039afb4144a1f6fd8d2ca17a180786b69acc140d282b71a49"
  }
 },
 "nbformat": 4,
 "nbformat_minor": 2
}